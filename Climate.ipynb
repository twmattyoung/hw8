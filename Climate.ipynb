{
 "cells": [
  {
   "cell_type": "code",
   "execution_count": 7,
   "metadata": {
    "papermill": {
     "duration": 2.602313,
     "end_time": "2019-04-29T20:58:37.407950",
     "exception": false,
     "start_time": "2019-04-29T20:58:34.805637",
     "status": "completed"
    },
    "tags": []
   },
   "outputs": [
    {
     "name": "stdout",
     "output_type": "stream",
     "text": [
      "<class 'pandas.core.frame.DataFrame'>\n",
      "RangeIndex: 39984 entries, 0 to 39983\n",
      "Data columns (total 5 columns):\n",
      " #   Column        Non-Null Count  Dtype  \n",
      "---  ------        --------------  -----  \n",
      " 0   Temperature   39984 non-null  float64\n",
      " 1   Year          39984 non-null  int64  \n",
      " 2   Month_Avg     39984 non-null  object \n",
      " 3   Country       39984 non-null  object \n",
      " 4   Country_Code  39984 non-null  object \n",
      "dtypes: float64(1), int64(1), object(3)\n",
      "memory usage: 1.5+ MB\n"
     ]
    }
   ],
   "source": [
    "import glob\n",
    "import os\n",
    "import datetime\n",
    "import numpy as np\n",
    "import pandas as pd\n",
    "\n",
    "from datetime import datetime, timedelta\n",
    "\n",
    "COLUMN_NAMES=['Temperature', 'Year', 'Month_Avg', 'Country', 'Country_Code']\n",
    "\n",
    "def strip(text):\n",
    "    try:\n",
    "        return text.strip()\n",
    "    except AttributeError:\n",
    "        return text\n",
    "\n",
    "def make_float(text):\n",
    "    return float(text.strip('\" '))\n",
    "\n",
    "def make_int(text):\n",
    "    return int(text.strip('\" '))\n",
    "\n",
    "def read_csv(filename):\n",
    "    df = pd.read_csv(filename,\n",
    "                     index_col=None,\n",
    "                     header=0,\n",
    "                     names=COLUMN_NAMES,\n",
    "                     converters = {'Temperature' : make_float,\n",
    "                                    'Year' : make_int,\n",
    "                                    'Month_Avg' : strip,\n",
    "                                    'Country' : strip,\n",
    "                                    'Country_Code' : strip})\n",
    "    return df\n",
    "\n",
    "df = read_csv('world_temp_2000-2016.csv')\n",
    "df['Temperature'] = df.Temperature.astype(float)\n",
    "df.info()"
   ]
  },
  {
   "cell_type": "code",
   "execution_count": 102,
   "metadata": {},
   "outputs": [],
   "source": [
    "# Task A\n",
    "def getTempByCols(cols, val1, val2):\n",
    "    grp = df.groupby(cols).agg({'Temperature': ['min', 'max']})\n",
    "    ndf = grp.reset_index()\n",
    "    return ndf[(ndf[cols[0]] == val1) & (ndf[cols[1]] == val2)]\n",
    "\n",
    "def getLowestTempByMonth(country, month):\n",
    "    ndf = getTempByCols(['Country', 'Month_Avg'],country, month)\n",
    "    return df[(df.Country == country) & (df.Month_Avg == month) & (df.Temperature == ndf[('Temperature', 'min')].iloc[0])]\n",
    "\n",
    "def getHighestTempByMonth(country, month):\n",
    "    ndf = getTempByCols(['Country', 'Month_Avg'],country, month)\n",
    "    return df[(df.Country == country) & (df.Month_Avg == month) & (df.Temperature == ndf[('Temperature', 'max')].iloc[0])]\n",
    "\n",
    "def getLowestTempByYear(country, year):\n",
    "    ndf = getTempByCols(['Country', 'Year'],country, year)\n",
    "    return df[(df.Country == country) & (df.Year == year) & (df.Temperature == ndf[('Temperature', 'min')].iloc[0])]\n",
    "\n",
    "def getHighestTempByYear(country, year):\n",
    "    ndf = getTempByCols(['Country', 'Year'],country, year)\n",
    "    return df[(df.Country == country) & (df.Year == year) & (df.Temperature == ndf[('Temperature', 'max')].iloc[0])]\n",
    "\n",
    "def getTempWithinRange(country, rangeLowTemp, rangeHighTemp):\n",
    "    s = df[(df.Country == country) & (df.Temperature <= rangeHighTemp) & (df.Temperature >= rangeLowTemp)]\n",
    "    return s.sort_values(by=['Temperature'])\n",
    "    \n",
    "def getHighestTemp(country):\n",
    "    i = df[(df.Country == country)].Temperature.idxmax()\n",
    "    return df.iloc[i]\n",
    "\n",
    "def getLowestTemp(country):\n",
    "    i = df[(df.Country == country)].Temperature.idxmin()\n",
    "    return df.iloc[i]\n"
   ]
  },
  {
   "cell_type": "code",
   "execution_count": 103,
   "metadata": {},
   "outputs": [
    {
     "data": {
      "text/plain": [
       "[     Temperature  Year Month_Avg  Country Country_Code\n",
       " 221      18.3694  2001       Jun  Albania          ALB,\n",
       "       Temperature  Year Month_Avg  Country Country_Code\n",
       " 3342      21.7403  2006       Jul  Belgium          BEL,\n",
       "       Temperature  Year Month_Avg   Country Country_Code\n",
       " 5940      23.5527  2002       Jan  Cameroon          CMR,\n",
       "       Temperature  Year Month_Avg                  Country Country_Code\n",
       " 8017      26.4338  2005       Feb  Congo (Republic of the)          COG]"
      ]
     },
     "execution_count": 103,
     "metadata": {},
     "output_type": "execute_result"
    }
   ],
   "source": [
    "[getLowestTempByMonth('Albania', 'Jun'),\n",
    " getHighestTempByMonth('Belgium', 'Jul'),\n",
    " getLowestTempByYear('Cameroon', 2002),\n",
    " getHighestTempByYear('Congo (Republic of the)', 2005)]"
   ]
  },
  {
   "cell_type": "code",
   "execution_count": 104,
   "metadata": {},
   "outputs": [
    {
     "data": {
      "text/html": [
       "<div>\n",
       "<style scoped>\n",
       "    .dataframe tbody tr th:only-of-type {\n",
       "        vertical-align: middle;\n",
       "    }\n",
       "\n",
       "    .dataframe tbody tr th {\n",
       "        vertical-align: top;\n",
       "    }\n",
       "\n",
       "    .dataframe thead th {\n",
       "        text-align: right;\n",
       "    }\n",
       "</style>\n",
       "<table border=\"1\" class=\"dataframe\">\n",
       "  <thead>\n",
       "    <tr style=\"text-align: right;\">\n",
       "      <th></th>\n",
       "      <th>Temperature</th>\n",
       "      <th>Year</th>\n",
       "      <th>Month_Avg</th>\n",
       "      <th>Country</th>\n",
       "      <th>Country_Code</th>\n",
       "    </tr>\n",
       "  </thead>\n",
       "  <tbody>\n",
       "    <tr>\n",
       "      <th>3426</th>\n",
       "      <td>20.0705</td>\n",
       "      <td>2013</td>\n",
       "      <td>Jul</td>\n",
       "      <td>Belgium</td>\n",
       "      <td>BEL</td>\n",
       "    </tr>\n",
       "    <tr>\n",
       "      <th>3307</th>\n",
       "      <td>20.2945</td>\n",
       "      <td>2003</td>\n",
       "      <td>Aug</td>\n",
       "      <td>Belgium</td>\n",
       "      <td>BEL</td>\n",
       "    </tr>\n",
       "    <tr>\n",
       "      <th>3342</th>\n",
       "      <td>21.7403</td>\n",
       "      <td>2006</td>\n",
       "      <td>Jul</td>\n",
       "      <td>Belgium</td>\n",
       "      <td>BEL</td>\n",
       "    </tr>\n",
       "  </tbody>\n",
       "</table>\n",
       "</div>"
      ],
      "text/plain": [
       "      Temperature  Year Month_Avg  Country Country_Code\n",
       "3426      20.0705  2013       Jul  Belgium          BEL\n",
       "3307      20.2945  2003       Aug  Belgium          BEL\n",
       "3342      21.7403  2006       Jul  Belgium          BEL"
      ]
     },
     "execution_count": 104,
     "metadata": {},
     "output_type": "execute_result"
    }
   ],
   "source": [
    "getTempWithinRange('Belgium', 20.0, 25.0)"
   ]
  },
  {
   "cell_type": "code",
   "execution_count": 105,
   "metadata": {},
   "outputs": [
    {
     "data": {
      "text/plain": [
       "[Temperature     21.7403\n",
       " Year               2006\n",
       " Month_Avg           Jul\n",
       " Country         Belgium\n",
       " Country_Code        BEL\n",
       " Name: 3342, dtype: object,\n",
       " Temperature     -0.4209\n",
       " Year               2003\n",
       " Month_Avg           Feb\n",
       " Country         Albania\n",
       " Country_Code        ALB\n",
       " Name: 241, dtype: object]"
      ]
     },
     "execution_count": 105,
     "metadata": {},
     "output_type": "execute_result"
    }
   ],
   "source": [
    "[getHighestTemp('Belgium'), getLowestTemp('Albania')]"
   ]
  },
  {
   "cell_type": "code",
   "execution_count": 115,
   "metadata": {},
   "outputs": [],
   "source": [
    "# Task B\n",
    "def allCountriesGetTop10LowestTempByMonth(month):\n",
    "    sorted_df = df[df.Month_Avg == month].sort_values(by=['Temperature', 'Country'])\n",
    "    return sorted_df.head(10)\n",
    "\n",
    "def allCountriesGetTop10HighestTempByMonth(month):\n",
    "    sorted_df = df[df.Month_Avg == month].sort_values(by=['Temperature', 'Country'], ascending=False)\n",
    "    return sorted_df.head(10)\n",
    "\n",
    "def allCountriesGetTop10LowestTemp():\n",
    "    return df.sort_values(by=['Temperature', 'Country']).head(10)\n",
    "\n",
    "def allCountriesGetTop10HighestTemp():\n",
    "    return df.sort_values(by=['Temperature', 'Country'], ascending=False).head(10)\n",
    "\n",
    "def allCountriesGetAllDataWithinTempRange(lowRangeTemp,highRangeTemp):\n",
    "    s = df[(df.Temperature <= highRangeTemp) & (df.Temperature >= lowRangeTemp)]\n",
    "    return s.sort_values(by=['Temperature', 'Country']).head(10)\n",
    "    "
   ]
  },
  {
   "cell_type": "code",
   "execution_count": 117,
   "metadata": {},
   "outputs": [],
   "source": [
    "resultB = [allCountriesGetTop10LowestTempByMonth('Aug'),\n",
    " allCountriesGetTop10HighestTempByMonth('Nov'),\n",
    " allCountriesGetTop10LowestTemp(),\n",
    " allCountriesGetTop10HighestTemp(),\n",
    " allCountriesGetAllDataWithinTempRange(15.0, 30.0)]"
   ]
  },
  {
   "cell_type": "code",
   "execution_count": 120,
   "metadata": {},
   "outputs": [],
   "source": [
    "# Task C\n",
    "def allCountriesTop10TempDelta(month, year1, year2):\n",
    "    ndf = df[(df.Month_Avg == month) & ((df.Year == year1) | (df.Year == year2))]\n",
    "    return ndf.groupby('Country')"
   ]
  },
  {
   "cell_type": "code",
   "execution_count": 133,
   "metadata": {},
   "outputs": [
    {
     "name": "stdout",
     "output_type": "stream",
     "text": [
      "      Temperature  Year Month_Avg  Country Country_Code\n",
      "8578      9.31536  2000       Nov  Croatia          HRV\n",
      "8590      4.72606  2001       Nov  Croatia          HRV\n",
      "       Temperature  Year Month_Avg  Country Country_Code\n",
      "23470      7.89914  2000       Nov  Moldova          MDA\n",
      "23482      3.28905  2001       Nov  Moldova          MDA\n",
      "      Temperature  Year Month_Avg                 Country Country_Code\n",
      "4294      8.80161  2000       Nov  Bosnia and Herzegovina          BIH\n",
      "4306      3.82368  2001       Nov  Bosnia and Herzegovina          BIH\n",
      "       Temperature  Year Month_Avg Country Country_Code\n",
      "29794      -18.935  2000       Nov  Russia          RUS\n",
      "29806      -13.913  2001       Nov  Russia          RUS\n",
      "       Temperature  Year Month_Avg   Country Country_Code\n",
      "31630      6.35640  2000       Nov  Slovakia          SVK\n",
      "31642      1.30004  2001       Nov  Slovakia          SVK\n",
      "       Temperature  Year Month_Avg  Country Country_Code\n",
      "29590      7.83432  2000       Nov  Romania          ROU\n",
      "29602      2.53454  2001       Nov  Romania          ROU\n",
      "       Temperature  Year Month_Avg  Country Country_Code\n",
      "15514      8.53011  2000       Nov  Hungary          HUN\n",
      "15526      3.15671  2001       Nov  Hungary          HUN\n",
      "       Temperature  Year Month_Avg   Country Country_Code\n",
      "23878     -13.6780  2000       Nov  Mongolia          MNG\n",
      "23890      -8.2046  2001       Nov  Mongolia          MNG\n",
      "       Temperature  Year Month_Avg             Country Country_Code\n",
      "29386      9.11187  2000       Nov  Republic of Serbia          SRB\n",
      "29398      3.54221  2001       Nov  Republic of Serbia          SRB\n",
      "       Temperature  Year Month_Avg     Country Country_Code\n",
      "17962     -4.78430  2000       Nov  Kazakhstan          KAZ\n",
      "17974      0.83741  2001       Nov  Kazakhstan          KAZ\n"
     ]
    }
   ],
   "source": [
    "groups = allCountriesTop10TempDelta('Nov', 2000, 2001)\n",
    "deltas = sorted([(abs(g.iloc[0].Temperature - g.iloc[1].Temperature), name) for name, g in groups], reverse=True)[:10]\n",
    "for temp, country in sorted(deltas):\n",
    "    print(groups.get_group(country))\n",
    "    "
   ]
  },
  {
   "cell_type": "code",
   "execution_count": null,
   "metadata": {},
   "outputs": [],
   "source": []
  }
 ],
 "metadata": {
  "kernelspec": {
   "display_name": "Python 3",
   "language": "python",
   "name": "python3"
  },
  "language_info": {
   "codemirror_mode": {
    "name": "ipython",
    "version": 3
   },
   "file_extension": ".py",
   "mimetype": "text/x-python",
   "name": "python",
   "nbconvert_exporter": "python",
   "pygments_lexer": "ipython3",
   "version": "3.7.6"
  },
  "papermill": {
   "duration": 5.527556,
   "end_time": "2019-04-29T20:58:39.324105",
   "environment_variables": {},
   "exception": null,
   "input_path": "notebook/FPR Analysis.ipynb",
   "output_path": "./output.ipynb",
   "parameters": {
    "DEFAULT_DB_PATH": "/Users/matty/temp/ForcePasswordResetDB"
   },
   "start_time": "2019-04-29T20:58:33.796549",
   "version": "1.0.0"
  }
 },
 "nbformat": 4,
 "nbformat_minor": 2
}
